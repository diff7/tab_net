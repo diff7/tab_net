{
 "cells": [
  {
   "cell_type": "code",
   "execution_count": 18,
   "metadata": {},
   "outputs": [],
   "source": [
    "import numpy as np\n",
    "\n",
    "from lightgbm import LGBMClassifier, LGBMRegressor\n",
    "from sklearn.metrics import (roc_auc_score, \n",
    "                             accuracy_score)\n",
    "\n",
    "from run_test import ( set_seed, \n",
    "                       na_imputer,\n",
    "                       RealNormalizer,\n",
    "                       data_processing )\n",
    "\n",
    "from data_processor import get_low_variance_objects\n",
    "\n",
    "from sklearn.linear_model import LogisticRegression, Ridge, Lasso\n",
    "\n",
    "\n",
    "import autogluon as ag\n",
    "from autogluon import TabularPrediction as task\n",
    "\n",
    "import matplotlib.pyplot as plt\n",
    "from scipy import stats"
   ]
  },
  {
   "cell_type": "markdown",
   "metadata": {},
   "source": [
    "## This notebook is only to check AutoGluon's internal feature pre preprocessing to further mbenchmarking\n",
    "## AutoGluon applies feature transformations specific for all models"
   ]
  },
  {
   "cell_type": "code",
   "execution_count": 33,
   "metadata": {},
   "outputs": [],
   "source": [
    "import pandas as pd\n",
    "\n",
    "TRAIN_PATH = '../../../data_main/credit/TRAIN.csv'\n",
    "VAL_PATH = '../../../data_main/credit/VAL.csv'\n",
    "train = pd.read_csv(TRAIN_PATH)#.sample(10000)\n",
    "val = pd.read_csv(VAL_PATH)#.sample(3000)\n",
    "\n",
    "val.drop(['Unnamed: 0','Unnamed: 0.1'], axis=1, inplace=True)\n",
    "train.drop(['Unnamed: 0','Unnamed: 0.1'], axis=1, inplace=True)\n",
    "\n",
    "train.fillna(train.median(), inplace=True)\n",
    "val.fillna(train.median(), inplace=True)\n",
    "\n",
    "TARGET = 'TARGET'"
   ]
  },
  {
   "cell_type": "code",
   "execution_count": 20,
   "metadata": {},
   "outputs": [],
   "source": [
    "class RealNormalizer:\n",
    "    def __init__(self):\n",
    "        self.mapper = dict()\n",
    "    \n",
    "    def fit_transform(self, data, columns_to_normalize):\n",
    "        for col in columns_to_normalize:\n",
    "            mean, std = data[col].mean(), data[col].std()\n",
    "            if std == 0: continue\n",
    "            self.mapper[col] = (mean, std)          \n",
    "            data[col] = ((data[col] - mean)/std).astype(float)\n",
    "        \n",
    "        return data\n",
    "    \n",
    "    def transform(self, data):\n",
    "        for col in self.mapper:\n",
    "            mean, std = self.mapper[col]\n",
    "            data[col] = ((data[col] - mean)/std).astype(float)\n",
    "        \n",
    "        return data"
   ]
  },
  {
   "cell_type": "code",
   "execution_count": 21,
   "metadata": {},
   "outputs": [],
   "source": [
    "class MinMax:\n",
    "    def __init__(self):\n",
    "        self.mapper = dict()\n",
    "    \n",
    "    def fit_transform(self, data, columns_to_normalize):\n",
    "        for col in columns_to_normalize:\n",
    "            min_, diff = data[col].min(), data[col].max() - data[col].min()\n",
    "            self.mapper[col] = (min_, diff)          \n",
    "            data[col] = ((data[col] - min_)/(diff)).astype(float)\n",
    "        \n",
    "        return data\n",
    "    \n",
    "    def transform(self, data):\n",
    "        for col in self.mapper:\n",
    "            min_, diff = self.mapper[col]\n",
    "            data[col] = ((data[col] - min_)/(diff)).astype(float)\n",
    "        \n",
    "        return data"
   ]
  },
  {
   "cell_type": "markdown",
   "metadata": {},
   "source": [
    "### LR regression no preprocessing"
   ]
  },
  {
   "cell_type": "code",
   "execution_count": 22,
   "metadata": {},
   "outputs": [
    {
     "data": {
      "text/plain": [
       "0.6566318124140056"
      ]
     },
     "execution_count": 22,
     "metadata": {},
     "output_type": "execute_result"
    }
   ],
   "source": [
    "model = LogisticRegression(penalty ='l2',random_state = 0,solver = 'lbfgs',n_jobs = -1, C=1)\n",
    "\n",
    "model.fit(train.drop(TARGET, axis=1), train[TARGET])\n",
    "preds = model.predict_proba(val.drop(TARGET, axis=1))\n",
    "roc_auc_score(val[TARGET], preds[:,1])"
   ]
  },
  {
   "cell_type": "markdown",
   "metadata": {},
   "source": [
    "### TRAIN AUTO GLUON on the same features"
   ]
  },
  {
   "cell_type": "code",
   "execution_count": 23,
   "metadata": {},
   "outputs": [],
   "source": [
    "hyperparameters = {'LR':{}}\n",
    "\n",
    "predictor = task.fit(train_data=train, \n",
    "                     output_directory=\"a_gluon_tests\", \n",
    "                     label=TARGET, \n",
    "                     eval_metric='roc_auc', \n",
    "                     hyperparameters=hyperparameters,\n",
    "                     verbosity = 0)\n",
    "                     #num_bagging_folds=None,\n",
    "                     #num_bagging_sets=None,)"
   ]
  },
  {
   "cell_type": "code",
   "execution_count": 24,
   "metadata": {},
   "outputs": [
    {
     "name": "stdout",
     "output_type": "stream",
     "text": [
      "Predictive performance on given dataset: roc_auc = 0.8371281065863232\n"
     ]
    }
   ],
   "source": [
    "performance = predictor.evaluate(val)"
   ]
  },
  {
   "cell_type": "markdown",
   "metadata": {},
   "source": [
    "### TRANSFORM FEATURES (Apply similar transformations auto gluon does internlly)"
   ]
  },
  {
   "cell_type": "code",
   "execution_count": 26,
   "metadata": {},
   "outputs": [
    {
     "name": "stdout",
     "output_type": "stream",
     "text": [
      "Low variance items all: 7, Objects all: 0\n",
      "Low variance objects: 0, High var objects: 0\n"
     ]
    }
   ],
   "source": [
    "low_var_objects, high_var_objects, low_var_real = get_low_variance_objects(train.drop(TARGET, axis=1), th=100)"
   ]
  },
  {
   "cell_type": "code",
   "execution_count": 27,
   "metadata": {},
   "outputs": [],
   "source": [
    "categoical = low_var_objects.union(low_var_real)\n",
    "low_var_n_objects = categoical.union(high_var_objects)\n",
    "real_features = list(set(train.columns).difference(low_var_n_objects))\n",
    "real_features.remove(TARGET)"
   ]
  },
  {
   "cell_type": "code",
   "execution_count": 28,
   "metadata": {},
   "outputs": [
    {
     "name": "stdout",
     "output_type": "stream",
     "text": [
      "(89968, 235)\n",
      "(30263, 235)\n"
     ]
    }
   ],
   "source": [
    "train  = pd.get_dummies(train, columns=categoical)\n",
    "val  = pd.get_dummies(val, columns=categoical)\n",
    "\n",
    "train, val = train.align(val, join='outer', axis=1, fill_value=0)\n",
    "\n",
    "print(train.shape)\n",
    "print(val.shape)"
   ]
  },
  {
   "cell_type": "markdown",
   "metadata": {},
   "source": [
    "### APPLY BOX COX"
   ]
  },
  {
   "cell_type": "markdown",
   "metadata": {},
   "source": [
    "###  Real valued features before BOX COX"
   ]
  },
  {
   "cell_type": "code",
   "execution_count": 34,
   "metadata": {},
   "outputs": [
    {
     "data": {
      "text/plain": [
       "<matplotlib.axes._subplots.AxesSubplot at 0x7f62281aaed0>"
      ]
     },
     "execution_count": 34,
     "metadata": {},
     "output_type": "execute_result"
    },
    {
     "data": {
      "image/png": "[encoded data removed]",
      "text/plain": [
       "<Figure size 432x288 with 1 Axes>"
      ]
     },
     "metadata": {
      "needs_background": "light"
     },
     "output_type": "display_data"
    }
   ],
   "source": [
    "train[real_features[1]].plot(kind='hist')"
   ]
  },
  {
   "cell_type": "code",
   "execution_count": 37,
   "metadata": {},
   "outputs": [],
   "source": [
    "normalizer = MinMax()\n",
    "\n",
    "# box cox\n",
    "# transform training data & save lambda value\n",
    "train[real_features[2]],fitted_lambda = stats.boxcox(train[real_features[2]]+1)\n",
    "# use lambda value to transform test data\n",
    "val[real_features[2]] = stats.boxcox(val[real_features[2]]+1, fitted_lambda)\n",
    "\n",
    "train[real_features[1]],fitted_lambda = stats.boxcox(train[real_features[1]]+1)\n",
    "val[real_features[1]] = stats.boxcox(val[real_features[1]]+1, fitted_lambda)\n",
    " \n",
    "# SCORE if higher if do not do this transformation\n",
    "\n",
    "# transform training data & save lambda value\n",
    "# train[real_features[0]],fitted_lambda = stats.boxcox(train[real_features[0]]+1)\n",
    "# use lambda value to transform test data\n",
    "# val[real_features[0]] = stats.boxcox(val[real_features[0]]+1, fitted_lambda)\n",
    "\n",
    "# min max\n",
    "train = normalizer.fit_transform(train, real_features)\n",
    "val = normalizer.transform(val)"
   ]
  },
  {
   "cell_type": "markdown",
   "metadata": {},
   "source": [
    "###  Real valued features after BOX COX"
   ]
  },
  {
   "cell_type": "code",
   "execution_count": 38,
   "metadata": {},
   "outputs": [
    {
     "data": {
      "text/plain": [
       "<matplotlib.axes._subplots.AxesSubplot at 0x7f62271e8910>"
      ]
     },
     "execution_count": 38,
     "metadata": {},
     "output_type": "execute_result"
    },
    {
     "data": {
      "image/png": "[encoded data removed]",
      "text/plain": [
       "<Figure size 432x288 with 1 Axes>"
      ]
     },
     "metadata": {
      "needs_background": "light"
     },
     "output_type": "display_data"
    }
   ],
   "source": [
    "train[real_features[1]].plot(kind='hist')"
   ]
  },
  {
   "cell_type": "code",
   "execution_count": 14,
   "metadata": {},
   "outputs": [
    {
     "data": {
      "text/plain": [
       "0.8562655449681559"
      ]
     },
     "execution_count": 14,
     "metadata": {},
     "output_type": "execute_result"
    }
   ],
   "source": [
    "model = LogisticRegression(penalty ='l2',random_state = 0, solver = 'lbfgs',n_jobs = -1, max_iter=50)\n",
    "\n",
    "model.fit(train.drop(TARGET, axis=1), train[TARGET])\n",
    "preds = model.predict_proba(val.drop(TARGET, axis=1))\n",
    "roc_auc_score(val[TARGET], preds[:,1])"
   ]
  },
  {
   "cell_type": "markdown",
   "metadata": {},
   "source": [
    "### AUTO GLUON ON THE SAME FEATURES\n",
    "##### Auto gluon has a threshold for skewed data to apply box cox"
   ]
  },
  {
   "cell_type": "code",
   "execution_count": 39,
   "metadata": {},
   "outputs": [
    {
     "name": "stdout",
     "output_type": "stream",
     "text": [
      "Predictive performance on given dataset: roc_auc = 0.8471889775967005\n"
     ]
    }
   ],
   "source": [
    "hyperparameters = {'LR':{}}\n",
    "\n",
    "predictor = task.fit(train_data=train, \n",
    "                     output_directory=\"a_gluon_tests\", \n",
    "                     label=TARGET, \n",
    "                     eval_metric='roc_auc', \n",
    "                     hyperparameters=hyperparameters,\n",
    "                     verbosity = 0)\n",
    "                     #num_bagging_folds=None,\n",
    "                     #num_bagging_sets=None,)\n",
    "        \n",
    "performance = predictor.evaluate(val)"
   ]
  },
  {
   "cell_type": "markdown",
   "metadata": {},
   "source": [
    "### CHECK AutoGluon params"
   ]
  },
  {
   "cell_type": "code",
   "execution_count": 218,
   "metadata": {},
   "outputs": [
    {
     "name": "stdout",
     "output_type": "stream",
     "text": [
      "*** Summary of fit() ***\n",
      "Estimated performance of each model:\n",
      "                     model  score_val  pred_time_val   fit_time  pred_time_val_marginal  fit_time_marginal  stack_level  can_infer\n",
      "0              LinearModel    0.86819       0.435163  52.335602                0.435163          52.335602            0       True\n",
      "1  weighted_ensemble_k0_l1    0.86819       0.437831  52.339645                0.002668           0.004043            1       True\n",
      "Number of models trained: 2\n",
      "Types of models trained:\n",
      "{'LinearModel', 'WeightedEnsembleModel'}\n",
      "Bagging used: False \n",
      "Stack-ensembling used: False \n",
      "Hyperparameter-tuning used: False \n",
      "User-specified hyperparameters:\n",
      "{'default': {'LR': [{}]}}\n",
      "Plot summary of models saved to file: a_gluon_tests/SummaryOfModels.html\n",
      "*** End of fit() summary ***\n"
     ]
    },
    {
     "data": {
      "text/plain": [
       "{'model_types': {'LinearModel': 'LinearModel',\n",
       "  'weighted_ensemble_k0_l1': 'WeightedEnsembleModel'},\n",
       " 'model_performance': {'LinearModel': 0.8681899861145144,\n",
       "  'weighted_ensemble_k0_l1': 0.8681899861145144},\n",
       " 'model_best': 'weighted_ensemble_k0_l1',\n",
       " 'model_paths': {'LinearModel': 'a_gluon_tests/models/LinearModel/',\n",
       "  'weighted_ensemble_k0_l1': 'a_gluon_tests/models/weighted_ensemble_k0_l1/'},\n",
       " 'model_fit_times': {'LinearModel': 52.335602045059204,\n",
       "  'weighted_ensemble_k0_l1': 0.0040433406829833984},\n",
       " 'model_pred_times': {'LinearModel': 0.4351630210876465,\n",
       "  'weighted_ensemble_k0_l1': 0.002668142318725586},\n",
       " 'num_bagging_folds': 0,\n",
       " 'stack_ensemble_levels': 0,\n",
       " 'feature_prune': False,\n",
       " 'hyperparameter_tune': False,\n",
       " 'hyperparameters_userspecified': {'default': {'LR': [{}]}},\n",
       " 'num_classes': 2,\n",
       " 'model_hyperparams': {'LinearModel': {'C': 1,\n",
       "   'vectorizer_dict_size': 75000,\n",
       "   'proc.ngram_range': (1, 5),\n",
       "   'proc.skew_threshold': 0.99,\n",
       "   'proc.impute_strategy': 'median',\n",
       "   'penalty': 'L2',\n",
       "   'handle_text': 'ignore',\n",
       "   'random_state': 0,\n",
       "   'solver': 'lbfgs',\n",
       "   'n_jobs': -1,\n",
       "   'fit_intercept': True},\n",
       "  'weighted_ensemble_k0_l1': {'max_models': 25, 'max_models_per_type': 5}},\n",
       " 'leaderboard':                      model  score_val  pred_time_val   fit_time  \\\n",
       " 0              LinearModel    0.86819       0.435163  52.335602   \n",
       " 1  weighted_ensemble_k0_l1    0.86819       0.437831  52.339645   \n",
       " \n",
       "    pred_time_val_marginal  fit_time_marginal  stack_level  can_infer  \n",
       " 0                0.435163          52.335602            0       True  \n",
       " 1                0.002668           0.004043            1       True  }"
      ]
     },
     "execution_count": 218,
     "metadata": {},
     "output_type": "execute_result"
    }
   ],
   "source": [
    "predictor.fit_summary()"
   ]
  }
 ],
 "metadata": {
  "kernelspec": {
   "display_name": "Python 3",
   "language": "python",
   "name": "python3"
  },
  "language_info": {
   "codemirror_mode": {
    "name": "ipython",
    "version": 3
   },
   "file_extension": ".py",
   "mimetype": "text/x-python",
   "name": "python",
   "nbconvert_exporter": "python",
   "pygments_lexer": "ipython3",
   "version": "3.7.7"
  }
 },
 "nbformat": 4,
 "nbformat_minor": 4
}
