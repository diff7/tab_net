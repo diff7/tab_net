{
 "cells": [
  {
   "cell_type": "code",
   "execution_count": 1,
   "metadata": {},
   "outputs": [],
   "source": [
    "import os\n",
    "import random\n",
    "\n",
    "import torch\n",
    "import numpy as np\n",
    "import torch.optim as optim\n",
    "import pandas as pd\n",
    "from sklearn.metrics import roc_auc_score, accuracy_score\n",
    "\n",
    "from looper import Looper\n",
    "from tab_net import TabNet, LinearM\n",
    "from data_processor import PandasCatLoader, get_feature_sizes\n",
    "\n",
    "os.environ['CUDA_LAUNCH_BLOCKING'] = '1'"
   ]
  },
  {
   "cell_type": "code",
   "execution_count": 2,
   "metadata": {},
   "outputs": [
    {
     "data": {
      "text/html": [
       "<div>\n",
       "<style scoped>\n",
       "    .dataframe tbody tr th:only-of-type {\n",
       "        vertical-align: middle;\n",
       "    }\n",
       "\n",
       "    .dataframe tbody tr th {\n",
       "        vertical-align: top;\n",
       "    }\n",
       "\n",
       "    .dataframe thead th {\n",
       "        text-align: right;\n",
       "    }\n",
       "</style>\n",
       "<table border=\"1\" class=\"dataframe\">\n",
       "  <thead>\n",
       "    <tr style=\"text-align: right;\">\n",
       "      <th></th>\n",
       "      <th>RevolvingUtilizationOfUnsecuredLines</th>\n",
       "      <th>age</th>\n",
       "      <th>NumberOfTime30-59DaysPastDueNotWorse</th>\n",
       "      <th>DebtRatio</th>\n",
       "      <th>MonthlyIncome</th>\n",
       "      <th>NumberOfOpenCreditLinesAndLoans</th>\n",
       "      <th>NumberOfTimes90DaysLate</th>\n",
       "      <th>NumberRealEstateLoansOrLines</th>\n",
       "      <th>NumberOfTime60-89DaysPastDueNotWorse</th>\n",
       "      <th>NumberOfDependents</th>\n",
       "      <th>TARGET</th>\n",
       "    </tr>\n",
       "  </thead>\n",
       "  <tbody>\n",
       "    <tr>\n",
       "      <th>0</th>\n",
       "      <td>0.766127</td>\n",
       "      <td>45</td>\n",
       "      <td>2</td>\n",
       "      <td>0.802982</td>\n",
       "      <td>9120.0</td>\n",
       "      <td>13</td>\n",
       "      <td>0</td>\n",
       "      <td>6</td>\n",
       "      <td>0</td>\n",
       "      <td>2.0</td>\n",
       "      <td>1</td>\n",
       "    </tr>\n",
       "    <tr>\n",
       "      <th>1</th>\n",
       "      <td>0.957151</td>\n",
       "      <td>40</td>\n",
       "      <td>0</td>\n",
       "      <td>0.121876</td>\n",
       "      <td>2600.0</td>\n",
       "      <td>4</td>\n",
       "      <td>0</td>\n",
       "      <td>0</td>\n",
       "      <td>0</td>\n",
       "      <td>1.0</td>\n",
       "      <td>0</td>\n",
       "    </tr>\n",
       "  </tbody>\n",
       "</table>\n",
       "</div>"
      ],
      "text/plain": [
       "   RevolvingUtilizationOfUnsecuredLines  age  \\\n",
       "0                              0.766127   45   \n",
       "1                              0.957151   40   \n",
       "\n",
       "   NumberOfTime30-59DaysPastDueNotWorse  DebtRatio  MonthlyIncome  \\\n",
       "0                                     2   0.802982         9120.0   \n",
       "1                                     0   0.121876         2600.0   \n",
       "\n",
       "   NumberOfOpenCreditLinesAndLoans  NumberOfTimes90DaysLate  \\\n",
       "0                               13                        0   \n",
       "1                                4                        0   \n",
       "\n",
       "   NumberRealEstateLoansOrLines  NumberOfTime60-89DaysPastDueNotWorse  \\\n",
       "0                             6                                     0   \n",
       "1                             0                                     0   \n",
       "\n",
       "   NumberOfDependents  TARGET  \n",
       "0                 2.0       1  \n",
       "1                 1.0       0  "
      ]
     },
     "execution_count": 2,
     "metadata": {},
     "output_type": "execute_result"
    }
   ],
   "source": [
    "TRAIN_PATH = '../../../data_main/credit/TRAIN.csv'\n",
    "VAL_PATH = '../../../data_main/credit/VAL.csv'\n",
    "train = pd.read_csv(TRAIN_PATH)#.sample(10000)\n",
    "val = pd.read_csv(VAL_PATH)#.sample(3000)\n",
    "\n",
    "val.drop(['Unnamed: 0','Unnamed: 0.1'], axis=1, inplace=True)\n",
    "train.drop(['Unnamed: 0','Unnamed: 0.1'], axis=1, inplace=True)\n",
    "\n",
    "train.fillna(train.median(), inplace=True)\n",
    "val.fillna(train.median(), inplace=True)\n",
    "\n",
    "train.head(2)"
   ]
  },
  {
   "cell_type": "code",
   "execution_count": null,
   "metadata": {},
   "outputs": [],
   "source": []
  },
  {
   "cell_type": "code",
   "execution_count": 3,
   "metadata": {},
   "outputs": [
    {
     "name": "stdout",
     "output_type": "stream",
     "text": [
      "Low variance items all: 0, Objects all: 0\n",
      "Low variance objects: 0, High var objects: 0\n"
     ]
    }
   ],
   "source": [
    "params = dict()\n",
    "params['TARGET'] = 'TARGET'\n",
    "params['embed_scaler'] = 1.6\n",
    "params['min_embed_size'] = 5\n",
    "params = get_feature_sizes(train.drop(params['TARGET'], axis=1), params,th=1)"
   ]
  },
  {
   "cell_type": "code",
   "execution_count": 4,
   "metadata": {},
   "outputs": [],
   "source": [
    "class LabelEnc:\n",
    "    def __init__(self):\n",
    "        self.mappers = dict()\n",
    "\n",
    "    def fit(self, frame, cat_fe):\n",
    "        for cat_fe in cat_fe:\n",
    "            labels = frame[cat_fe].unique()\n",
    "            mapper = {labels[i]:i for i in range(len(labels))}\n",
    "            self.mappers[cat_fe] = mapper\n",
    "            \n",
    "    def transform(self, frame_orig):\n",
    "        frame = frame_orig.copy()\n",
    "        if len(self.mappers) == 0:\n",
    "            print('Use fit first')\n",
    "            return None\n",
    "        \n",
    "        for col in self.mappers:\n",
    "            frame[col] = frame[col].map(self.mappers[col])\n",
    "            frame[col].fillna(max(self.mappers[col].values())+1, inplace=True)\n",
    "        return frame\n",
    "\n",
    "    def fit_transform(self, frame, cat_fes):\n",
    "        self.fit(frame, cat_fes)\n",
    "        return self.transform(frame)\n",
    "    "
   ]
  },
  {
   "cell_type": "code",
   "execution_count": 5,
   "metadata": {},
   "outputs": [
    {
     "name": "stdout",
     "output_type": "stream",
     "text": [
      "Use fit first\n",
      "Use fit first\n"
     ]
    }
   ],
   "source": [
    "cat_columns = list(params['cat_embed_sizes'].keys())\n",
    "label_enc = LabelEnc()\n",
    "train = label_enc.fit_transform(train, cat_columns)\n",
    "val = label_enc.transform(val)"
   ]
  },
  {
   "cell_type": "code",
   "execution_count": 6,
   "metadata": {},
   "outputs": [
    {
     "data": {
      "text/plain": [
       "{'TARGET': 'SeriousDlqin2yrs',\n",
       " 'embed_scaler': 1.6,\n",
       " 'min_embed_size': 5,\n",
       " 'real_features_size': 3,\n",
       " 'num_categoical': 7,\n",
       " 'cat_embed_sizes': {'NumberOfOpenCreditLinesAndLoans': {'embedding_dim': 34,\n",
       "   'num_categories': 56},\n",
       "  'NumberOfTime30-59DaysPastDueNotWorse': {'embedding_dim': 9,\n",
       "   'num_categories': 16},\n",
       "  'NumberRealEstateLoansOrLines': {'embedding_dim': 16, 'num_categories': 27},\n",
       "  'NumberOfDependents': {'embedding_dim': 7, 'num_categories': 13},\n",
       "  'NumberOfTime60-89DaysPastDueNotWorse': {'embedding_dim': 7,\n",
       "   'num_categories': 13},\n",
       "  'NumberOfTimes90DaysLate': {'embedding_dim': 10, 'num_categories': 17},\n",
       "  'age': {'embedding_dim': 53, 'num_categories': 86}},\n",
       " 'real_features': {'DebtRatio',\n",
       "  'MonthlyIncome',\n",
       "  'RevolvingUtilizationOfUnsecuredLines'},\n",
       " 'input_concat_vector_size': 139,\n",
       " 'high_var_objects': set()}"
      ]
     },
     "execution_count": 6,
     "metadata": {},
     "output_type": "execute_result"
    }
   ],
   "source": [
    "params"
   ]
  },
  {
   "cell_type": "code",
   "execution_count": 7,
   "metadata": {},
   "outputs": [],
   "source": [
    "# for col in params['real_features']:\n",
    "#     if col == params['TARGET']: continue\n",
    "#     mean, std = train[col].mean(), train[col].std()\n",
    "#     if std == 0: continue\n",
    "#     train[col] = (train[col] - mean)/std\n",
    "#     val[col] = (val[col] - mean)/std"
   ]
  },
  {
   "cell_type": "code",
   "execution_count": 8,
   "metadata": {},
   "outputs": [],
   "source": [
    "def make_dataset(train_frame, val_frame,params, shuffle=True, batch_size=512):\n",
    "    loaders = []\n",
    "    train_frame.reset_index(drop=True, inplace=True)\n",
    "    val_frame.reset_index(drop=True, inplace=True)\n",
    "    for cur_data in [train_frame, val_frame]:\n",
    "        source = PandasCatLoader(cur_data, params)\n",
    "        loader = torch.utils.data.DataLoader(\n",
    "            source, batch_size=batch_size, num_workers=12, shuffle=shuffle\n",
    "        )\n",
    "        \n",
    "        loaders.append(loader)\n",
    "\n",
    "    return loaders"
   ]
  },
  {
   "cell_type": "code",
   "execution_count": 10,
   "metadata": {},
   "outputs": [],
   "source": [
    "# train_set, val_set = make_dataset(train, val, params, shuffle=True, batch_size=128)"
   ]
  },
  {
   "cell_type": "code",
   "execution_count": 8,
   "metadata": {},
   "outputs": [
    {
     "data": {
      "text/plain": [
       "89984"
      ]
     },
     "execution_count": 8,
     "metadata": {},
     "output_type": "execute_result"
    }
   ],
   "source": [
    "len(train_set)*128"
   ]
  },
  {
   "cell_type": "code",
   "execution_count": 16,
   "metadata": {},
   "outputs": [],
   "source": [
    "# data = next(iter(val_set))\n",
    "# data"
   ]
  },
  {
   "cell_type": "code",
   "execution_count": 13,
   "metadata": {},
   "outputs": [],
   "source": [
    "#set(data['target'].cpu().numpy())"
   ]
  },
  {
   "cell_type": "code",
   "execution_count": 14,
   "metadata": {},
   "outputs": [],
   "source": [
    "# def dict_to_cuda(data, device):\n",
    "#     for key in data:\n",
    "#         if isinstance(data[key], dict):\n",
    "#             for k in data[key]:\n",
    "#                 data[key][k] = data[key][k].to(device)\n",
    "#         else: data[key] = data[key].to(device)\n",
    "            \n",
    "            \n",
    "# for key in data:\n",
    "#     if isinstance(data[key], dict):\n",
    "#         for k in data[key]:\n",
    "#             data[key][k] = data[key][k].cuda()\n",
    "#     else: data[key] = data[key].cuda()          "
   ]
  },
  {
   "cell_type": "code",
   "execution_count": 15,
   "metadata": {},
   "outputs": [],
   "source": [
    "#torch.nn.functional.softmax(model(data), dim=1).detach().cpu().numpy()[:,1]"
   ]
  },
  {
   "cell_type": "markdown",
   "metadata": {},
   "source": [
    "### LINEAR BASELINE"
   ]
  },
  {
   "cell_type": "code",
   "execution_count": 9,
   "metadata": {},
   "outputs": [],
   "source": [
    "from sklearn.linear_model import LogisticRegression\n",
    "\n",
    "clf = LogisticRegression(random_state=0, max_iter = 300, penalty='l2')\n",
    "clf.fit(train.drop(params['TARGET'], axis=1), train[params['TARGET']])\n",
    "preds = clf.predict_proba(val.drop(params['TARGET'], axis=1))"
   ]
  },
  {
   "cell_type": "code",
   "execution_count": 10,
   "metadata": {},
   "outputs": [
    {
     "data": {
      "text/plain": [
       "0.701150900279962"
      ]
     },
     "execution_count": 10,
     "metadata": {},
     "output_type": "execute_result"
    }
   ],
   "source": [
    "roc_auc_score(val[params['TARGET']], preds[:,1])"
   ]
  },
  {
   "cell_type": "code",
   "execution_count": 11,
   "metadata": {},
   "outputs": [
    {
     "name": "stderr",
     "output_type": "stream",
     "text": [
      "  0%|          | 0/10 [00:00<?, ?it/s]"
     ]
    },
    {
     "name": "stdout",
     "output_type": "stream",
     "text": [
      "roc_auc_score 0.5206995928744453\n",
      "accuracy_score 0.09162181914822935\n"
     ]
    },
    {
     "name": "stderr",
     "output_type": "stream",
     "text": [
      " 10%|█         | 1/10 [00:21<03:13, 21.51s/it, loss=0.0764, roc_auc_score=0.521, accuracy_score=0.0916]"
     ]
    },
    {
     "name": "stdout",
     "output_type": "stream",
     "text": [
      "roc_auc_score 0.7185280337977089\n",
      "accuracy_score 0.9327287223440303\n"
     ]
    },
    {
     "name": "stderr",
     "output_type": "stream",
     "text": [
      " 20%|██        | 2/10 [00:42<02:51, 21.41s/it, loss=0.0341, roc_auc_score=0.719, accuracy_score=0.933] "
     ]
    },
    {
     "name": "stdout",
     "output_type": "stream",
     "text": [
      "roc_auc_score 0.7898123194724209\n",
      "accuracy_score 0.9328283834961132\n"
     ]
    },
    {
     "name": "stderr",
     "output_type": "stream",
     "text": [
      " 30%|███       | 3/10 [01:04<02:30, 21.44s/it, loss=0.0214, roc_auc_score=0.79, accuracy_score=0.933] "
     ]
    },
    {
     "name": "stdout",
     "output_type": "stream",
     "text": [
      "roc_auc_score 0.8082098479621956\n",
      "accuracy_score 0.932662281575975\n"
     ]
    },
    {
     "name": "stderr",
     "output_type": "stream",
     "text": [
      " 40%|████      | 4/10 [01:25<02:09, 21.54s/it, loss=0.0162, roc_auc_score=0.808, accuracy_score=0.933]"
     ]
    },
    {
     "name": "stdout",
     "output_type": "stream",
     "text": [
      "roc_auc_score 0.813708668006017\n",
      "accuracy_score 0.9323965185037539\n"
     ]
    },
    {
     "name": "stderr",
     "output_type": "stream",
     "text": [
      " 50%|█████     | 5/10 [01:48<01:49, 21.86s/it, loss=0.0129, roc_auc_score=0.814, accuracy_score=0.932]"
     ]
    },
    {
     "name": "stdout",
     "output_type": "stream",
     "text": [
      "roc_auc_score 0.8163082915281038\n",
      "accuracy_score 0.9324297388877816\n"
     ]
    },
    {
     "name": "stderr",
     "output_type": "stream",
     "text": [
      " 60%|██████    | 6/10 [02:11<01:28, 22.10s/it, loss=0.0106, roc_auc_score=0.816, accuracy_score=0.932]"
     ]
    },
    {
     "name": "stdout",
     "output_type": "stream",
     "text": [
      "roc_auc_score 0.8179180006305412\n",
      "accuracy_score 0.932662281575975\n"
     ]
    },
    {
     "name": "stderr",
     "output_type": "stream",
     "text": [
      " 70%|███████   | 7/10 [02:33<01:06, 22.17s/it, loss=0.00916, roc_auc_score=0.818, accuracy_score=0.933]"
     ]
    },
    {
     "name": "stdout",
     "output_type": "stream",
     "text": [
      "roc_auc_score 0.8178720159772266\n",
      "accuracy_score 0.9327287223440303\n"
     ]
    },
    {
     "name": "stderr",
     "output_type": "stream",
     "text": [
      " 80%|████████  | 8/10 [02:56<00:44, 22.42s/it, loss=0.00798, roc_auc_score=0.818, accuracy_score=0.933]"
     ]
    },
    {
     "name": "stdout",
     "output_type": "stream",
     "text": [
      "roc_auc_score 0.8204221459768705\n",
      "accuracy_score 0.9338249950169424\n"
     ]
    },
    {
     "name": "stderr",
     "output_type": "stream",
     "text": [
      " 90%|█████████ | 9/10 [03:19<00:22, 22.47s/it, loss=0.00691, roc_auc_score=0.82, accuracy_score=0.934] "
     ]
    },
    {
     "name": "stdout",
     "output_type": "stream",
     "text": [
      "roc_auc_score 0.8212440128271592\n",
      "accuracy_score 0.9326955019600026\n"
     ]
    },
    {
     "name": "stderr",
     "output_type": "stream",
     "text": [
      "100%|██████████| 10/10 [03:42<00:00, 22.84s/it, loss=0.00633, roc_auc_score=0.821, accuracy_score=0.933]"
     ]
    }
   ],
   "source": [
    "device = torch.device('cuda' if torch.cuda.is_available() else 'cpu')\n",
    "looper = Looper(device, 'cls')\n",
    "\n",
    "def set_seed(seed):\n",
    "    torch.manual_seed(seed)\n",
    "    torch.cuda.manual_seed(seed)\n",
    "    torch.cuda.manual_seed_all(seed)\n",
    "    torch.backends.cudnn.deterministic = True\n",
    "    torch.backends.cudnn.benchmark = False\n",
    "    np.random.seed(seed)\n",
    "    random.seed(seed)\n",
    "    os.environ[\"PYTHONHASHSEED\"] = str(seed)\n",
    "\n",
    "set_seed(44)    \n",
    "\n",
    "params[\"layer_norm\"] = False\n",
    "params[\"batch_norm\"] = True\n",
    "params[\"mid_features\"] = 13\n",
    "params[\"num_residual\"] = 1\n",
    "params[\"drop_out\"] = 0\n",
    "params['out_size'] = 2\n",
    "\n",
    "#model = TabNet(params)\n",
    "model = LinearM(params)\n",
    "model.cuda();\n",
    "\n",
    "optimizer = optim.Adam(model.parameters(), lr=0.001)\n",
    "loss_fn = torch.nn.CrossEntropyLoss()\n",
    "\n",
    "val_funcs = [roc_auc_score, accuracy_score]\n",
    "\n",
    "looper.train(model, \n",
    "        10,\n",
    "        train_set, \n",
    "        val_set,\n",
    "        optimizer,\n",
    "        loss_fn,\n",
    "        val_funcs)"
   ]
  },
  {
   "cell_type": "markdown",
   "metadata": {},
   "source": [
    "### LINEAR 2 Layers baseline"
   ]
  },
  {
   "cell_type": "code",
   "execution_count": 21,
   "metadata": {},
   "outputs": [
    {
     "name": "stderr",
     "output_type": "stream",
     "text": [
      "\n",
      "  0%|          | 0/10 [00:00<?, ?it/s]\u001b[A"
     ]
    },
    {
     "name": "stdout",
     "output_type": "stream",
     "text": [
      "roc_auc_score 0.5247795106666544\n",
      "accuracy_score 0.07836688592120125\n"
     ]
    },
    {
     "name": "stderr",
     "output_type": "stream",
     "text": [
      "\n",
      "  0%|          | 0/10 [00:19<?, ?it/s, loss=0.0695, roc_auc_score=0.525, accuracy_score=0.0784]\u001b[A\n",
      " 10%|█         | 1/10 [00:19<02:56, 19.62s/it, loss=0.0695, roc_auc_score=0.525, accuracy_score=0.0784]\u001b[A"
     ]
    },
    {
     "name": "stdout",
     "output_type": "stream",
     "text": [
      "roc_auc_score 0.7459528976091762\n",
      "accuracy_score 0.934688725001661\n"
     ]
    },
    {
     "name": "stderr",
     "output_type": "stream",
     "text": [
      "\n",
      " 10%|█         | 1/10 [00:38<02:56, 19.62s/it, loss=0.0337, roc_auc_score=0.746, accuracy_score=0.935] \u001b[A\n",
      " 20%|██        | 2/10 [00:38<02:35, 19.50s/it, loss=0.0337, roc_auc_score=0.746, accuracy_score=0.935]\u001b[A"
     ]
    },
    {
     "name": "stdout",
     "output_type": "stream",
     "text": [
      "roc_auc_score 0.7746458350646832\n",
      "accuracy_score 0.9344229619294399\n"
     ]
    },
    {
     "name": "stderr",
     "output_type": "stream",
     "text": [
      "\n",
      " 20%|██        | 2/10 [00:58<02:35, 19.50s/it, loss=0.0214, roc_auc_score=0.775, accuracy_score=0.934]\u001b[A\n",
      " 30%|███       | 3/10 [00:58<02:16, 19.56s/it, loss=0.0214, roc_auc_score=0.775, accuracy_score=0.934]\u001b[A"
     ]
    },
    {
     "name": "stdout",
     "output_type": "stream",
     "text": [
      "roc_auc_score 0.7963071043167445\n",
      "accuracy_score 0.9352202511461033\n"
     ]
    },
    {
     "name": "stderr",
     "output_type": "stream",
     "text": [
      "\n",
      " 30%|███       | 3/10 [01:18<02:16, 19.56s/it, loss=0.0163, roc_auc_score=0.796, accuracy_score=0.935]\u001b[A\n",
      " 40%|████      | 4/10 [01:18<01:57, 19.57s/it, loss=0.0163, roc_auc_score=0.796, accuracy_score=0.935]\u001b[A"
     ]
    },
    {
     "name": "stdout",
     "output_type": "stream",
     "text": [
      "roc_auc_score 0.8068006808437291\n",
      "accuracy_score 0.9351205899940204\n"
     ]
    },
    {
     "name": "stderr",
     "output_type": "stream",
     "text": [
      "\n",
      " 40%|████      | 4/10 [01:37<01:57, 19.57s/it, loss=0.0129, roc_auc_score=0.807, accuracy_score=0.935]\u001b[A\n",
      " 50%|█████     | 5/10 [01:37<01:37, 19.48s/it, loss=0.0129, roc_auc_score=0.807, accuracy_score=0.935]\u001b[A"
     ]
    },
    {
     "name": "stdout",
     "output_type": "stream",
     "text": [
      "roc_auc_score 0.811166329630553\n",
      "accuracy_score 0.9348880473058269\n"
     ]
    },
    {
     "name": "stderr",
     "output_type": "stream",
     "text": [
      "\n",
      " 50%|█████     | 5/10 [01:56<01:37, 19.48s/it, loss=0.0105, roc_auc_score=0.811, accuracy_score=0.935]\u001b[A\n",
      " 60%|██████    | 6/10 [01:56<01:17, 19.40s/it, loss=0.0105, roc_auc_score=0.811, accuracy_score=0.935]\u001b[A"
     ]
    },
    {
     "name": "stdout",
     "output_type": "stream",
     "text": [
      "roc_auc_score 0.8125903764647221\n",
      "accuracy_score 0.9348880473058269\n"
     ]
    },
    {
     "name": "stderr",
     "output_type": "stream",
     "text": [
      "\n",
      " 60%|██████    | 6/10 [02:16<01:17, 19.40s/it, loss=0.00913, roc_auc_score=0.813, accuracy_score=0.935]\u001b[A\n",
      " 70%|███████   | 7/10 [02:16<00:58, 19.45s/it, loss=0.00913, roc_auc_score=0.813, accuracy_score=0.935]\u001b[A"
     ]
    },
    {
     "name": "stdout",
     "output_type": "stream",
     "text": [
      "roc_auc_score 0.81324005369713\n",
      "accuracy_score 0.9351205899940204\n"
     ]
    },
    {
     "name": "stderr",
     "output_type": "stream",
     "text": [
      "\n",
      " 70%|███████   | 7/10 [02:35<00:58, 19.45s/it, loss=0.00797, roc_auc_score=0.813, accuracy_score=0.935]\u001b[A\n",
      " 80%|████████  | 8/10 [02:35<00:39, 19.54s/it, loss=0.00797, roc_auc_score=0.813, accuracy_score=0.935]\u001b[A"
     ]
    },
    {
     "name": "stdout",
     "output_type": "stream",
     "text": [
      "roc_auc_score 0.8149512737678615\n",
      "accuracy_score 0.935419573450269\n"
     ]
    },
    {
     "name": "stderr",
     "output_type": "stream",
     "text": [
      "\n",
      " 80%|████████  | 8/10 [02:55<00:39, 19.54s/it, loss=0.00691, roc_auc_score=0.815, accuracy_score=0.935]\u001b[A\n",
      " 90%|█████████ | 9/10 [02:55<00:19, 19.47s/it, loss=0.00691, roc_auc_score=0.815, accuracy_score=0.935]\u001b[A"
     ]
    },
    {
     "name": "stdout",
     "output_type": "stream",
     "text": [
      "roc_auc_score 0.8155969584524392\n",
      "accuracy_score 0.9352866919141585\n"
     ]
    },
    {
     "name": "stderr",
     "output_type": "stream",
     "text": [
      "\n",
      " 90%|█████████ | 9/10 [03:14<00:19, 19.47s/it, loss=0.00634, roc_auc_score=0.816, accuracy_score=0.935]\u001b[A\n",
      "100%|██████████| 10/10 [03:14<00:00, 19.52s/it, loss=0.00634, roc_auc_score=0.816, accuracy_score=0.935]\u001b[A"
     ]
    }
   ],
   "source": [
    "device = torch.device('cuda' if torch.cuda.is_available() else 'cpu')\n",
    "looper = Looper(device, 'cls')\n",
    "\n",
    "def set_seed(seed):\n",
    "    torch.manual_seed(seed)\n",
    "    torch.cuda.manual_seed(seed)\n",
    "    torch.cuda.manual_seed_all(seed)\n",
    "    torch.backends.cudnn.deterministic = True\n",
    "    torch.backends.cudnn.benchmark = False\n",
    "    np.random.seed(seed)\n",
    "    random.seed(seed)\n",
    "    os.environ[\"PYTHONHASHSEED\"] = str(seed)\n",
    "\n",
    "set_seed(44)    \n",
    "\n",
    "params[\"layer_norm\"] = False\n",
    "params[\"batch_norm\"] = True\n",
    "params[\"mid_features\"] = 13\n",
    "params[\"num_residual\"] = 1\n",
    "params[\"drop_out\"] = 0\n",
    "params['out_size'] = 2\n",
    "\n",
    "#model = TabNet(params)\n",
    "model = LinearM(params)\n",
    "model.cuda();\n",
    "\n",
    "optimizer = optim.Adam(model.parameters(), lr=0.001)\n",
    "loss_fn = torch.nn.CrossEntropyLoss()\n",
    "\n",
    "val_funcs = [roc_auc_score, accuracy_score]\n",
    "\n",
    "looper.train(model, \n",
    "        10,\n",
    "        train_set, \n",
    "        val_set,\n",
    "        optimizer,\n",
    "        loss_fn,\n",
    "        val_funcs)"
   ]
  },
  {
   "cell_type": "markdown",
   "metadata": {},
   "source": [
    "### Embedding Batch Norm"
   ]
  },
  {
   "cell_type": "code",
   "execution_count": 11,
   "metadata": {},
   "outputs": [
    {
     "name": "stderr",
     "output_type": "stream",
     "text": [
      "  0%|          | 0/10 [00:00<?, ?it/s]"
     ]
    },
    {
     "name": "stdout",
     "output_type": "stream",
     "text": [
      "roc_auc_score 0.5068967179356156\n",
      "accuracy_score 0.8607223451204464\n"
     ]
    },
    {
     "name": "stderr",
     "output_type": "stream",
     "text": [
      " 10%|█         | 1/10 [00:37<05:38, 37.66s/it, loss=0.205, roc_auc_score=0.507, accuracy_score=0.861]"
     ]
    },
    {
     "name": "stdout",
     "output_type": "stream",
     "text": [
      "roc_auc_score 0.8317694699811916\n",
      "accuracy_score 0.9356359149371366\n"
     ]
    },
    {
     "name": "stderr",
     "output_type": "stream",
     "text": [
      " 20%|██        | 2/10 [01:15<05:00, 37.61s/it, loss=0.0968, roc_auc_score=0.832, accuracy_score=0.936]"
     ]
    },
    {
     "name": "stdout",
     "output_type": "stream",
     "text": [
      "roc_auc_score 0.8363472283170212\n",
      "accuracy_score 0.9361139210956346\n"
     ]
    },
    {
     "name": "stderr",
     "output_type": "stream",
     "text": [
      " 30%|███       | 3/10 [01:52<04:22, 37.57s/it, loss=0.0641, roc_auc_score=0.836, accuracy_score=0.936]"
     ]
    },
    {
     "name": "stdout",
     "output_type": "stream",
     "text": [
      "roc_auc_score 0.8417710818241435\n",
      "accuracy_score 0.9361472703625066\n"
     ]
    },
    {
     "name": "stderr",
     "output_type": "stream",
     "text": [
      " 40%|████      | 4/10 [02:30<03:45, 37.61s/it, loss=0.0476, roc_auc_score=0.842, accuracy_score=0.936]"
     ]
    },
    {
     "name": "stdout",
     "output_type": "stream",
     "text": [
      "roc_auc_score 0.8433034962109256\n",
      "accuracy_score 0.9373256111253154\n"
     ]
    },
    {
     "name": "stderr",
     "output_type": "stream",
     "text": [
      " 50%|█████     | 5/10 [03:07<03:07, 37.58s/it, loss=0.0378, roc_auc_score=0.843, accuracy_score=0.937]"
     ]
    },
    {
     "name": "stdout",
     "output_type": "stream",
     "text": [
      "roc_auc_score 0.8474046683519629\n",
      "accuracy_score 0.937814733706104\n"
     ]
    },
    {
     "name": "stderr",
     "output_type": "stream",
     "text": [
      " 60%|██████    | 6/10 [03:45<02:30, 37.61s/it, loss=0.0312, roc_auc_score=0.847, accuracy_score=0.938]"
     ]
    },
    {
     "name": "stdout",
     "output_type": "stream",
     "text": [
      "roc_auc_score 0.8479819769666339\n",
      "accuracy_score 0.9383372055537645\n"
     ]
    },
    {
     "name": "stderr",
     "output_type": "stream",
     "text": [
      " 70%|███████   | 7/10 [04:22<01:52, 37.51s/it, loss=0.0267, roc_auc_score=0.848, accuracy_score=0.938]"
     ]
    },
    {
     "name": "stdout",
     "output_type": "stream",
     "text": [
      "roc_auc_score 0.8521919613369289\n",
      "accuracy_score 0.9383594383983459\n"
     ]
    },
    {
     "name": "stderr",
     "output_type": "stream",
     "text": [
      " 80%|████████  | 8/10 [05:00<01:14, 37.45s/it, loss=0.0232, roc_auc_score=0.852, accuracy_score=0.938]"
     ]
    },
    {
     "name": "stdout",
     "output_type": "stream",
     "text": [
      "roc_auc_score 0.8538137534615344\n",
      "accuracy_score 0.9386151161110309\n"
     ]
    },
    {
     "name": "stderr",
     "output_type": "stream",
     "text": [
      " 90%|█████████ | 9/10 [05:37<00:37, 37.40s/it, loss=0.0205, roc_auc_score=0.854, accuracy_score=0.939]"
     ]
    },
    {
     "name": "stdout",
     "output_type": "stream",
     "text": [
      "roc_auc_score 0.8575806497839111\n",
      "accuracy_score 0.939404382093667\n"
     ]
    },
    {
     "name": "stderr",
     "output_type": "stream",
     "text": [
      "100%|██████████| 10/10 [06:15<00:00, 37.58s/it, loss=0.0184, roc_auc_score=0.858, accuracy_score=0.939]"
     ]
    }
   ],
   "source": [
    "device = torch.device('cuda' if torch.cuda.is_available() else 'cpu')\n",
    "#device = 'cpu'\n",
    "looper = Looper(device, 'cls')\n",
    "\n",
    "def set_seed(seed):\n",
    "    torch.manual_seed(seed)\n",
    "    torch.cuda.manual_seed(seed)\n",
    "    torch.cuda.manual_seed_all(seed)\n",
    "    torch.backends.cudnn.deterministic = True\n",
    "    torch.backends.cudnn.benchmark = False\n",
    "    np.random.seed(seed)\n",
    "    random.seed(seed)\n",
    "    os.environ[\"PYTHONHASHSEED\"] = str(seed)\n",
    "\n",
    "set_seed(44)    \n",
    "\n",
    "params[\"layer_norm\"] = False\n",
    "params[\"batch_norm\"] = True\n",
    "params[\"mid_features\"] = 64\n",
    "params[\"num_residual\"] = 1\n",
    "params[\"drop_out\"] = 0.1\n",
    "params['out_size'] = 2\n",
    "\n",
    "model = TabNet(params)\n",
    "model.cuda();\n",
    "\n",
    "optimizer = optim.Adam(model.parameters(), lr=0.001)\n",
    "loss_fn = torch.nn.CrossEntropyLoss()\n",
    "\n",
    "val_funcs = [roc_auc_score, accuracy_score]\n",
    "\n",
    "looper.train(model, \n",
    "        10,\n",
    "        train_set, \n",
    "        val_set,\n",
    "        optimizer,\n",
    "        loss_fn,\n",
    "        val_funcs)"
   ]
  },
  {
   "cell_type": "markdown",
   "metadata": {},
   "source": [
    "### Embedding Layer Norm"
   ]
  },
  {
   "cell_type": "code",
   "execution_count": 12,
   "metadata": {},
   "outputs": [
    {
     "name": "stderr",
     "output_type": "stream",
     "text": [
      "\n",
      "  0%|          | 0/10 [00:00<?, ?it/s]\u001b[A"
     ]
    },
    {
     "name": "stdout",
     "output_type": "stream",
     "text": [
      "roc_auc_score 0.5110770906625539\n",
      "accuracy_score 0.9123025445490623\n"
     ]
    },
    {
     "name": "stderr",
     "output_type": "stream",
     "text": [
      "\n",
      "  0%|          | 0/10 [00:37<?, ?it/s, loss=0.204, roc_auc_score=0.511, accuracy_score=0.912]\u001b[A\n",
      " 10%|█         | 1/10 [00:37<05:38, 37.60s/it, loss=0.204, roc_auc_score=0.511, accuracy_score=0.912]\u001b[A"
     ]
    },
    {
     "name": "stdout",
     "output_type": "stream",
     "text": [
      "roc_auc_score 0.8318733031829615\n",
      "accuracy_score 0.9357470791600432\n"
     ]
    },
    {
     "name": "stderr",
     "output_type": "stream",
     "text": [
      "\n",
      " 10%|█         | 1/10 [01:14<05:38, 37.60s/it, loss=0.0967, roc_auc_score=0.832, accuracy_score=0.936]\u001b[A\n",
      " 20%|██        | 2/10 [01:14<04:59, 37.48s/it, loss=0.0967, roc_auc_score=0.832, accuracy_score=0.936]\u001b[A"
     ]
    },
    {
     "name": "stdout",
     "output_type": "stream",
     "text": [
      "roc_auc_score 0.8372056215381696\n",
      "accuracy_score 0.9363362495414476\n"
     ]
    },
    {
     "name": "stderr",
     "output_type": "stream",
     "text": [
      "\n",
      " 20%|██        | 2/10 [01:52<04:59, 37.48s/it, loss=0.0639, roc_auc_score=0.837, accuracy_score=0.936]\u001b[A\n",
      " 30%|███       | 3/10 [01:52<04:22, 37.50s/it, loss=0.0639, roc_auc_score=0.837, accuracy_score=0.936]\u001b[A"
     ]
    },
    {
     "name": "stdout",
     "output_type": "stream",
     "text": [
      "roc_auc_score 0.8417198950529567\n",
      "accuracy_score 0.9369476527674333\n"
     ]
    },
    {
     "name": "stderr",
     "output_type": "stream",
     "text": [
      "\n",
      " 30%|███       | 3/10 [02:29<04:22, 37.50s/it, loss=0.0474, roc_auc_score=0.842, accuracy_score=0.937]\u001b[A\n",
      " 40%|████      | 4/10 [02:29<03:44, 37.34s/it, loss=0.0474, roc_auc_score=0.842, accuracy_score=0.937]\u001b[A"
     ]
    },
    {
     "name": "stdout",
     "output_type": "stream",
     "text": [
      "roc_auc_score 0.8433708448362521\n",
      "accuracy_score 0.936769790010783\n"
     ]
    },
    {
     "name": "stderr",
     "output_type": "stream",
     "text": [
      "\n",
      " 40%|████      | 4/10 [03:07<03:44, 37.34s/it, loss=0.0377, roc_auc_score=0.843, accuracy_score=0.937]\u001b[A\n",
      " 50%|█████     | 5/10 [03:07<03:07, 37.57s/it, loss=0.0377, roc_auc_score=0.843, accuracy_score=0.937]\u001b[A"
     ]
    },
    {
     "name": "stdout",
     "output_type": "stream",
     "text": [
      "roc_auc_score 0.8457193637724658\n",
      "accuracy_score 0.9382482741754393\n"
     ]
    },
    {
     "name": "stderr",
     "output_type": "stream",
     "text": [
      "\n",
      " 50%|█████     | 5/10 [03:45<03:07, 37.57s/it, loss=0.0312, roc_auc_score=0.846, accuracy_score=0.938]\u001b[A\n",
      " 60%|██████    | 6/10 [03:45<02:30, 37.58s/it, loss=0.0312, roc_auc_score=0.846, accuracy_score=0.938]\u001b[A"
     ]
    },
    {
     "name": "stdout",
     "output_type": "stream",
     "text": [
      "roc_auc_score 0.846783944986217\n",
      "accuracy_score 0.9384039040875085\n"
     ]
    },
    {
     "name": "stderr",
     "output_type": "stream",
     "text": [
      "\n",
      " 60%|██████    | 6/10 [04:23<02:30, 37.58s/it, loss=0.0266, roc_auc_score=0.847, accuracy_score=0.938]\u001b[A\n",
      " 70%|███████   | 7/10 [04:23<01:53, 37.82s/it, loss=0.0266, roc_auc_score=0.847, accuracy_score=0.938]\u001b[A"
     ]
    },
    {
     "name": "stdout",
     "output_type": "stream",
     "text": [
      "roc_auc_score 0.8504609444491729\n",
      "accuracy_score 0.9387818624453905\n"
     ]
    },
    {
     "name": "stderr",
     "output_type": "stream",
     "text": [
      "\n",
      " 70%|███████   | 7/10 [05:01<01:53, 37.82s/it, loss=0.0232, roc_auc_score=0.85, accuracy_score=0.939] \u001b[A\n",
      " 80%|████████  | 8/10 [05:01<01:15, 37.84s/it, loss=0.0232, roc_auc_score=0.85, accuracy_score=0.939]\u001b[A"
     ]
    },
    {
     "name": "stdout",
     "output_type": "stream",
     "text": [
      "roc_auc_score 0.8522871777123373\n",
      "accuracy_score 0.9385817668441588\n"
     ]
    },
    {
     "name": "stderr",
     "output_type": "stream",
     "text": [
      "\n",
      " 80%|████████  | 8/10 [05:39<01:15, 37.84s/it, loss=0.0205, roc_auc_score=0.852, accuracy_score=0.939]\u001b[A\n",
      " 90%|█████████ | 9/10 [05:39<00:37, 37.97s/it, loss=0.0205, roc_auc_score=0.852, accuracy_score=0.939]\u001b[A"
     ]
    },
    {
     "name": "stdout",
     "output_type": "stream",
     "text": [
      "roc_auc_score 0.8558965699760912\n",
      "accuracy_score 0.939404382093667\n"
     ]
    },
    {
     "name": "stderr",
     "output_type": "stream",
     "text": [
      "\n",
      " 90%|█████████ | 9/10 [06:17<00:37, 37.97s/it, loss=0.0184, roc_auc_score=0.856, accuracy_score=0.939]\u001b[A\n",
      "100%|██████████| 10/10 [06:17<00:00, 37.97s/it, loss=0.0184, roc_auc_score=0.856, accuracy_score=0.939]\u001b[A"
     ]
    }
   ],
   "source": [
    "device = torch.device('cuda' if torch.cuda.is_available() else 'cpu')\n",
    "#device = 'cpu'\n",
    "looper = Looper(device, 'cls')\n",
    "\n",
    "def set_seed(seed):\n",
    "    torch.manual_seed(seed)\n",
    "    torch.cuda.manual_seed(seed)\n",
    "    torch.cuda.manual_seed_all(seed)\n",
    "    torch.backends.cudnn.deterministic = True\n",
    "    torch.backends.cudnn.benchmark = False\n",
    "    np.random.seed(seed)\n",
    "    random.seed(seed)\n",
    "    os.environ[\"PYTHONHASHSEED\"] = str(seed)\n",
    "\n",
    "set_seed(44)    \n",
    "\n",
    "params[\"layer_norm\"] = True\n",
    "params[\"batch_norm\"] = False\n",
    "params[\"mid_features\"] = 64\n",
    "params[\"num_residual\"] = 1\n",
    "params[\"drop_out\"] = 0.1\n",
    "params['out_size'] = 2\n",
    "\n",
    "model = TabNet(params)\n",
    "model.cuda();\n",
    "\n",
    "optimizer = optim.Adam(model.parameters(), lr=0.001)\n",
    "loss_fn = torch.nn.CrossEntropyLoss()\n",
    "\n",
    "val_funcs = [roc_auc_score, accuracy_score]\n",
    "\n",
    "looper.train(model, \n",
    "        10,\n",
    "        train_set, \n",
    "        val_set,\n",
    "        optimizer,\n",
    "        loss_fn,\n",
    "        val_funcs)"
   ]
  },
  {
   "cell_type": "markdown",
   "metadata": {},
   "source": [
    "### BAIS TRUE EMBEDDING"
   ]
  },
  {
   "cell_type": "code",
   "execution_count": 12,
   "metadata": {},
   "outputs": [
    {
     "name": "stderr",
     "output_type": "stream",
     "text": [
      "  0%|          | 0/10 [00:00<?, ?it/s]"
     ]
    },
    {
     "name": "stdout",
     "output_type": "stream",
     "text": [
      "roc_auc_score 0.4924649569235662\n",
      "accuracy_score 0.07683671087297264\n"
     ]
    },
    {
     "name": "stderr",
     "output_type": "stream",
     "text": [
      " 10%|█         | 1/10 [00:37<05:35, 37.25s/it, loss=0.208, roc_auc_score=0.492, accuracy_score=0.0768]"
     ]
    },
    {
     "name": "stdout",
     "output_type": "stream",
     "text": [
      "roc_auc_score 0.8283840796735984\n",
      "accuracy_score 0.9353246551129984\n"
     ]
    },
    {
     "name": "stderr",
     "output_type": "stream",
     "text": [
      " 20%|██        | 2/10 [01:14<04:57, 37.18s/it, loss=0.0968, roc_auc_score=0.828, accuracy_score=0.935]"
     ]
    },
    {
     "name": "stdout",
     "output_type": "stream",
     "text": [
      "roc_auc_score 0.8356929347590084\n",
      "accuracy_score 0.9358360105383683\n"
     ]
    },
    {
     "name": "stderr",
     "output_type": "stream",
     "text": [
      " 30%|███       | 3/10 [01:51<04:20, 37.20s/it, loss=0.0638, roc_auc_score=0.836, accuracy_score=0.936]"
     ]
    },
    {
     "name": "stdout",
     "output_type": "stream",
     "text": [
      "roc_auc_score 0.8384884983182039\n",
      "accuracy_score 0.9367253243216204\n"
     ]
    },
    {
     "name": "stderr",
     "output_type": "stream",
     "text": [
      " 40%|████      | 4/10 [02:28<03:42, 37.14s/it, loss=0.0475, roc_auc_score=0.838, accuracy_score=0.937]"
     ]
    },
    {
     "name": "stdout",
     "output_type": "stream",
     "text": [
      "roc_auc_score 0.8420709159973616\n",
      "accuracy_score 0.9370921662572118\n"
     ]
    },
    {
     "name": "stderr",
     "output_type": "stream",
     "text": [
      " 50%|█████     | 5/10 [03:05<03:06, 37.24s/it, loss=0.0377, roc_auc_score=0.842, accuracy_score=0.937]"
     ]
    },
    {
     "name": "stdout",
     "output_type": "stream",
     "text": [
      "roc_auc_score 0.8427637982520564\n",
      "accuracy_score 0.9379703636181731\n"
     ]
    },
    {
     "name": "stderr",
     "output_type": "stream",
     "text": [
      " 60%|██████    | 6/10 [03:43<02:29, 37.30s/it, loss=0.0313, roc_auc_score=0.843, accuracy_score=0.938]"
     ]
    },
    {
     "name": "stdout",
     "output_type": "stream",
     "text": [
      "roc_auc_score 0.8457571481267487\n",
      "accuracy_score 0.9382482741754393\n"
     ]
    },
    {
     "name": "stderr",
     "output_type": "stream",
     "text": [
      " 70%|███████   | 7/10 [04:20<01:51, 37.28s/it, loss=0.0267, roc_auc_score=0.846, accuracy_score=0.938]"
     ]
    },
    {
     "name": "stdout",
     "output_type": "stream",
     "text": [
      "roc_auc_score 0.8478949224459967\n",
      "accuracy_score 0.9391487043809821\n"
     ]
    },
    {
     "name": "stderr",
     "output_type": "stream",
     "text": [
      " 80%|████████  | 8/10 [04:57<01:14, 37.29s/it, loss=0.0232, roc_auc_score=0.848, accuracy_score=0.939]"
     ]
    },
    {
     "name": "stdout",
     "output_type": "stream",
     "text": [
      "roc_auc_score 0.8515759209217135\n",
      "accuracy_score 0.9393932656713764\n"
     ]
    },
    {
     "name": "stderr",
     "output_type": "stream",
     "text": [
      " 90%|█████████ | 9/10 [05:34<00:37, 37.16s/it, loss=0.0205, roc_auc_score=0.852, accuracy_score=0.939]"
     ]
    },
    {
     "name": "stdout",
     "output_type": "stream",
     "text": [
      "roc_auc_score 0.8541702557773299\n",
      "accuracy_score 0.9396822926509332\n"
     ]
    },
    {
     "name": "stderr",
     "output_type": "stream",
     "text": [
      "100%|██████████| 10/10 [06:11<00:00, 37.14s/it, loss=0.0183, roc_auc_score=0.854, accuracy_score=0.94]"
     ]
    }
   ],
   "source": [
    "device = torch.device('cuda' if torch.cuda.is_available() else 'cpu')\n",
    "#device = 'cpu'\n",
    "looper = Looper(device, 'cls')\n",
    "\n",
    "def set_seed(seed):\n",
    "    torch.manual_seed(seed)\n",
    "    torch.cuda.manual_seed(seed)\n",
    "    torch.cuda.manual_seed_all(seed)\n",
    "    torch.backends.cudnn.deterministic = True\n",
    "    torch.backends.cudnn.benchmark = False\n",
    "    np.random.seed(seed)\n",
    "    random.seed(seed)\n",
    "    os.environ[\"PYTHONHASHSEED\"] = str(seed)\n",
    "\n",
    "set_seed(44)    \n",
    "\n",
    "params[\"layer_norm\"] = True\n",
    "params[\"batch_norm\"] = False\n",
    "params[\"mid_features\"] = 64\n",
    "params[\"num_residual\"] = 1\n",
    "params[\"drop_out\"] = 0.1\n",
    "params['out_size'] = 2\n",
    "\n",
    "model = TabNet(params)\n",
    "model.cuda();\n",
    "\n",
    "optimizer = optim.Adam(model.parameters(), lr=0.001)\n",
    "loss_fn = torch.nn.CrossEntropyLoss()\n",
    "\n",
    "val_funcs = [roc_auc_score, accuracy_score]\n",
    "\n",
    "looper.train(model, \n",
    "        10,\n",
    "        train_set, \n",
    "        val_set,\n",
    "        optimizer,\n",
    "        loss_fn,\n",
    "        val_funcs)"
   ]
  },
  {
   "cell_type": "markdown",
   "metadata": {},
   "source": [
    "### ZERO DROP OUT"
   ]
  },
  {
   "cell_type": "code",
   "execution_count": 13,
   "metadata": {},
   "outputs": [
    {
     "name": "stderr",
     "output_type": "stream",
     "text": [
      "\n",
      "  0%|          | 0/10 [00:00<?, ?it/s]\u001b[A"
     ]
    },
    {
     "name": "stdout",
     "output_type": "stream",
     "text": [
      "roc_auc_score 0.4924649569235662\n",
      "accuracy_score 0.07683671087297264\n"
     ]
    },
    {
     "name": "stderr",
     "output_type": "stream",
     "text": [
      "\n",
      "  0%|          | 0/10 [00:37<?, ?it/s, loss=0.205, roc_auc_score=0.492, accuracy_score=0.0768]\u001b[A\n",
      " 10%|█         | 1/10 [00:37<05:37, 37.47s/it, loss=0.205, roc_auc_score=0.492, accuracy_score=0.0768]\u001b[A"
     ]
    },
    {
     "name": "stdout",
     "output_type": "stream",
     "text": [
      "roc_auc_score 0.8309308754261338\n",
      "accuracy_score 0.935658147781718\n"
     ]
    },
    {
     "name": "stderr",
     "output_type": "stream",
     "text": [
      "\n",
      " 10%|█         | 1/10 [01:14<05:37, 37.47s/it, loss=0.0951, roc_auc_score=0.831, accuracy_score=0.936]\u001b[A\n",
      " 20%|██        | 2/10 [01:14<04:59, 37.38s/it, loss=0.0951, roc_auc_score=0.831, accuracy_score=0.936]\u001b[A"
     ]
    },
    {
     "name": "stdout",
     "output_type": "stream",
     "text": [
      "roc_auc_score 0.839905798971168\n",
      "accuracy_score 0.9360805718287626\n"
     ]
    },
    {
     "name": "stderr",
     "output_type": "stream",
     "text": [
      "\n",
      " 20%|██        | 2/10 [01:51<04:59, 37.38s/it, loss=0.0626, roc_auc_score=0.84, accuracy_score=0.936] \u001b[A\n",
      " 30%|███       | 3/10 [01:51<04:20, 37.22s/it, loss=0.0626, roc_auc_score=0.84, accuracy_score=0.936]\u001b[A"
     ]
    },
    {
     "name": "stdout",
     "output_type": "stream",
     "text": [
      "roc_auc_score 0.8425612480583273\n",
      "accuracy_score 0.9372366797469902\n"
     ]
    },
    {
     "name": "stderr",
     "output_type": "stream",
     "text": [
      "\n",
      " 30%|███       | 3/10 [02:29<04:20, 37.22s/it, loss=0.0465, roc_auc_score=0.843, accuracy_score=0.937]\u001b[A\n",
      " 40%|████      | 4/10 [02:29<03:44, 37.38s/it, loss=0.0465, roc_auc_score=0.843, accuracy_score=0.937]\u001b[A"
     ]
    },
    {
     "name": "stdout",
     "output_type": "stream",
     "text": [
      "roc_auc_score 0.8473429945349721\n",
      "accuracy_score 0.938070411418789\n"
     ]
    },
    {
     "name": "stderr",
     "output_type": "stream",
     "text": [
      "\n",
      " 40%|████      | 4/10 [03:06<03:44, 37.38s/it, loss=0.0369, roc_auc_score=0.847, accuracy_score=0.938]\u001b[A\n",
      " 50%|█████     | 5/10 [03:06<03:06, 37.38s/it, loss=0.0369, roc_auc_score=0.847, accuracy_score=0.938]\u001b[A"
     ]
    },
    {
     "name": "stdout",
     "output_type": "stream",
     "text": [
      "roc_auc_score 0.8498802102241136\n",
      "accuracy_score 0.9390153073134943\n"
     ]
    },
    {
     "name": "stderr",
     "output_type": "stream",
     "text": [
      "\n",
      " 50%|█████     | 5/10 [03:43<03:06, 37.38s/it, loss=0.0305, roc_auc_score=0.85, accuracy_score=0.939] \u001b[A\n",
      " 60%|██████    | 6/10 [03:43<02:29, 37.33s/it, loss=0.0305, roc_auc_score=0.85, accuracy_score=0.939]\u001b[A"
     ]
    },
    {
     "name": "stdout",
     "output_type": "stream",
     "text": [
      "roc_auc_score 0.8553845394218967\n",
      "accuracy_score 0.9392487521815979\n"
     ]
    },
    {
     "name": "stderr",
     "output_type": "stream",
     "text": [
      "\n",
      " 60%|██████    | 6/10 [04:21<02:29, 37.33s/it, loss=0.0259, roc_auc_score=0.855, accuracy_score=0.939]\u001b[A\n",
      " 70%|███████   | 7/10 [04:21<01:52, 37.47s/it, loss=0.0259, roc_auc_score=0.855, accuracy_score=0.939]\u001b[A"
     ]
    },
    {
     "name": "stdout",
     "output_type": "stream",
     "text": [
      "roc_auc_score 0.8576406843214855\n",
      "accuracy_score 0.9405271407450226\n"
     ]
    },
    {
     "name": "stderr",
     "output_type": "stream",
     "text": [
      "\n",
      " 70%|███████   | 7/10 [04:58<01:52, 37.47s/it, loss=0.0225, roc_auc_score=0.858, accuracy_score=0.941]\u001b[A\n",
      " 80%|████████  | 8/10 [04:58<01:14, 37.26s/it, loss=0.0225, roc_auc_score=0.858, accuracy_score=0.941]\u001b[A"
     ]
    },
    {
     "name": "stdout",
     "output_type": "stream",
     "text": [
      "roc_auc_score 0.8623890540428085\n",
      "accuracy_score 0.9410273797481019\n"
     ]
    },
    {
     "name": "stderr",
     "output_type": "stream",
     "text": [
      "\n",
      " 80%|████████  | 8/10 [05:35<01:14, 37.26s/it, loss=0.0198, roc_auc_score=0.862, accuracy_score=0.941]\u001b[A\n",
      " 90%|█████████ | 9/10 [05:35<00:37, 37.21s/it, loss=0.0198, roc_auc_score=0.862, accuracy_score=0.941]\u001b[A"
     ]
    },
    {
     "name": "stdout",
     "output_type": "stream",
     "text": [
      "roc_auc_score 0.8667146426477459\n",
      "accuracy_score 0.9416498993963782\n"
     ]
    },
    {
     "name": "stderr",
     "output_type": "stream",
     "text": [
      "\n",
      " 90%|█████████ | 9/10 [06:13<00:37, 37.21s/it, loss=0.0176, roc_auc_score=0.867, accuracy_score=0.942]\u001b[A\n",
      "100%|██████████| 10/10 [06:13<00:00, 37.46s/it, loss=0.0176, roc_auc_score=0.867, accuracy_score=0.942]\u001b[A"
     ]
    }
   ],
   "source": [
    "device = torch.device('cuda' if torch.cuda.is_available() else 'cpu')\n",
    "#device = 'cpu'\n",
    "looper = Looper(device, 'cls')\n",
    "\n",
    "def set_seed(seed):\n",
    "    torch.manual_seed(seed)\n",
    "    torch.cuda.manual_seed(seed)\n",
    "    torch.cuda.manual_seed_all(seed)\n",
    "    torch.backends.cudnn.deterministic = True\n",
    "    torch.backends.cudnn.benchmark = False\n",
    "    np.random.seed(seed)\n",
    "    random.seed(seed)\n",
    "    os.environ[\"PYTHONHASHSEED\"] = str(seed)\n",
    "\n",
    "set_seed(44)    \n",
    "\n",
    "params[\"layer_norm\"] = True\n",
    "params[\"batch_norm\"] = False\n",
    "params[\"mid_features\"] = 64\n",
    "params[\"num_residual\"] = 1\n",
    "params[\"drop_out\"] = 0\n",
    "params['out_size'] = 2\n",
    "\n",
    "model = TabNet(params)\n",
    "model.cuda();\n",
    "\n",
    "optimizer = optim.Adam(model.parameters(), lr=0.001)\n",
    "loss_fn = torch.nn.CrossEntropyLoss()\n",
    "\n",
    "val_funcs = [roc_auc_score, accuracy_score]\n",
    "\n",
    "looper.train(model, \n",
    "        10,\n",
    "        train_set, \n",
    "        train_set,\n",
    "        optimizer,\n",
    "        loss_fn,\n",
    "        val_funcs)"
   ]
  },
  {
   "cell_type": "code",
   "execution_count": 14,
   "metadata": {},
   "outputs": [
    {
     "name": "stderr",
     "output_type": "stream",
     "text": [
      "\n",
      "\n",
      "  0%|          | 0/10 [00:00<?, ?it/s]\u001b[A\u001b[A"
     ]
    },
    {
     "name": "stdout",
     "output_type": "stream",
     "text": [
      "roc_auc_score 0.4924649569235662\n",
      "accuracy_score 0.07683671087297264\n"
     ]
    },
    {
     "name": "stderr",
     "output_type": "stream",
     "text": [
      "\n",
      "\n",
      "  0%|          | 0/10 [00:37<?, ?it/s, loss=0.26, roc_auc_score=0.492, accuracy_score=0.0768]\u001b[A\u001b[A\n",
      "\n",
      " 10%|█         | 1/10 [00:37<05:36, 37.44s/it, loss=0.26, roc_auc_score=0.492, accuracy_score=0.0768]\u001b[A\u001b[A"
     ]
    },
    {
     "name": "stdout",
     "output_type": "stream",
     "text": [
      "roc_auc_score 0.8083870390614725\n",
      "accuracy_score 0.9337350067254355\n"
     ]
    },
    {
     "name": "stderr",
     "output_type": "stream",
     "text": [
      "\n",
      "\n",
      " 10%|█         | 1/10 [01:14<05:36, 37.44s/it, loss=0.0985, roc_auc_score=0.808, accuracy_score=0.934]\u001b[A\u001b[A\n",
      "\n",
      " 20%|██        | 2/10 [01:14<04:59, 37.41s/it, loss=0.0985, roc_auc_score=0.808, accuracy_score=0.934]\u001b[A\u001b[A"
     ]
    },
    {
     "name": "stdout",
     "output_type": "stream",
     "text": [
      "roc_auc_score 0.8246750131023921\n",
      "accuracy_score 0.9343686427960025\n"
     ]
    },
    {
     "name": "stderr",
     "output_type": "stream",
     "text": [
      "\n",
      "\n",
      " 20%|██        | 2/10 [01:52<04:59, 37.41s/it, loss=0.0642, roc_auc_score=0.825, accuracy_score=0.934]\u001b[A\u001b[A\n",
      "\n",
      " 30%|███       | 3/10 [01:52<04:22, 37.57s/it, loss=0.0642, roc_auc_score=0.825, accuracy_score=0.934]\u001b[A\u001b[A"
     ]
    },
    {
     "name": "stdout",
     "output_type": "stream",
     "text": [
      "roc_auc_score 0.8327710953647298\n",
      "accuracy_score 0.9351356759340573\n"
     ]
    },
    {
     "name": "stderr",
     "output_type": "stream",
     "text": [
      "\n",
      "\n",
      " 30%|███       | 3/10 [02:39<04:22, 37.57s/it, loss=0.0476, roc_auc_score=0.833, accuracy_score=0.935]\u001b[A\u001b[A\n",
      "\n",
      " 40%|████      | 4/10 [02:39<04:02, 40.38s/it, loss=0.0476, roc_auc_score=0.833, accuracy_score=0.935]\u001b[A\u001b[A"
     ]
    },
    {
     "name": "stdout",
     "output_type": "stream",
     "text": [
      "roc_auc_score 0.8382298287111905\n",
      "accuracy_score 0.9358248941160777\n"
     ]
    },
    {
     "name": "stderr",
     "output_type": "stream",
     "text": [
      "\n",
      "\n",
      " 40%|████      | 4/10 [03:21<04:02, 40.38s/it, loss=0.0377, roc_auc_score=0.838, accuracy_score=0.936]\u001b[A\u001b[A\n",
      "\n",
      " 50%|█████     | 5/10 [03:22<03:24, 40.97s/it, loss=0.0377, roc_auc_score=0.838, accuracy_score=0.936]\u001b[A\u001b[A"
     ]
    },
    {
     "name": "stdout",
     "output_type": "stream",
     "text": [
      "roc_auc_score 0.8412091218389047\n",
      "accuracy_score 0.9363584823860289\n"
     ]
    },
    {
     "name": "stderr",
     "output_type": "stream",
     "text": [
      "\n",
      "\n",
      " 50%|█████     | 5/10 [03:59<03:24, 40.97s/it, loss=0.0311, roc_auc_score=0.841, accuracy_score=0.936]\u001b[A\u001b[A\n",
      "\n",
      " 60%|██████    | 6/10 [03:59<02:39, 39.91s/it, loss=0.0311, roc_auc_score=0.841, accuracy_score=0.936]\u001b[A\u001b[A"
     ]
    },
    {
     "name": "stdout",
     "output_type": "stream",
     "text": [
      "roc_auc_score 0.844783606629471\n",
      "accuracy_score 0.9368476049668175\n"
     ]
    },
    {
     "name": "stderr",
     "output_type": "stream",
     "text": [
      "\n",
      "\n",
      " 60%|██████    | 6/10 [04:37<02:39, 39.91s/it, loss=0.0265, roc_auc_score=0.845, accuracy_score=0.937]\u001b[A\u001b[A\n",
      "\n",
      " 70%|███████   | 7/10 [04:37<01:57, 39.28s/it, loss=0.0265, roc_auc_score=0.845, accuracy_score=0.937]\u001b[A\u001b[A"
     ]
    },
    {
     "name": "stdout",
     "output_type": "stream",
     "text": [
      "roc_auc_score 0.8480450097768559\n",
      "accuracy_score 0.9374256589259313\n"
     ]
    },
    {
     "name": "stderr",
     "output_type": "stream",
     "text": [
      "\n",
      "\n",
      " 70%|███████   | 7/10 [05:14<01:57, 39.28s/it, loss=0.023, roc_auc_score=0.848, accuracy_score=0.937] \u001b[A\u001b[A\n",
      "\n",
      " 80%|████████  | 8/10 [05:14<01:17, 38.81s/it, loss=0.023, roc_auc_score=0.848, accuracy_score=0.937]\u001b[A\u001b[A"
     ]
    },
    {
     "name": "stdout",
     "output_type": "stream",
     "text": [
      "roc_auc_score 0.8506612237326445\n",
      "accuracy_score 0.9377258023277788\n"
     ]
    },
    {
     "name": "stderr",
     "output_type": "stream",
     "text": [
      "\n",
      "\n",
      " 80%|████████  | 8/10 [05:52<01:17, 38.81s/it, loss=0.0203, roc_auc_score=0.851, accuracy_score=0.938]\u001b[A\u001b[A\n",
      "\n",
      " 90%|█████████ | 9/10 [05:52<00:38, 38.52s/it, loss=0.0203, roc_auc_score=0.851, accuracy_score=0.938]\u001b[A\u001b[A"
     ]
    },
    {
     "name": "stdout",
     "output_type": "stream",
     "text": [
      "roc_auc_score 0.8535988351464034\n",
      "accuracy_score 0.9380370621519171\n"
     ]
    },
    {
     "name": "stderr",
     "output_type": "stream",
     "text": [
      "\n",
      "\n",
      " 90%|█████████ | 9/10 [06:30<00:38, 38.52s/it, loss=0.0182, roc_auc_score=0.854, accuracy_score=0.938]\u001b[A\u001b[A\n",
      "\n",
      "100%|██████████| 10/10 [06:30<00:00, 38.35s/it, loss=0.0182, roc_auc_score=0.854, accuracy_score=0.938]\u001b[A\u001b[A"
     ]
    }
   ],
   "source": [
    "device = torch.device('cuda' if torch.cuda.is_available() else 'cpu')\n",
    "#device = 'cpu'\n",
    "looper = Looper(device, 'cls')\n",
    "\n",
    "def set_seed(seed):\n",
    "    torch.manual_seed(seed)\n",
    "    torch.cuda.manual_seed(seed)\n",
    "    torch.cuda.manual_seed_all(seed)\n",
    "    torch.backends.cudnn.deterministic = True\n",
    "    torch.backends.cudnn.benchmark = False\n",
    "    np.random.seed(seed)\n",
    "    random.seed(seed)\n",
    "    os.environ[\"PYTHONHASHSEED\"] = str(seed)\n",
    "\n",
    "set_seed(44)    \n",
    "\n",
    "params[\"layer_norm\"] = True\n",
    "params[\"batch_norm\"] = False\n",
    "params[\"mid_features\"] = 64\n",
    "params[\"num_residual\"] = 1\n",
    "params[\"drop_out\"] = 0\n",
    "params['out_size'] = 2\n",
    "\n",
    "model = TabNet(params)\n",
    "model.cuda();\n",
    "\n",
    "optimizer = optim.Adam(model.parameters(), lr=0.0001)\n",
    "loss_fn = torch.nn.CrossEntropyLoss()\n",
    "\n",
    "val_funcs = [roc_auc_score, accuracy_score]\n",
    "\n",
    "looper.train(model, \n",
    "        10,\n",
    "        train_set, \n",
    "        val_set,\n",
    "        optimizer,\n",
    "        loss_fn,\n",
    "        val_funcs)"
   ]
  }
 ],
 "metadata": {
  "kernelspec": {
   "display_name": "Python 3",
   "language": "python",
   "name": "python3"
  },
  "language_info": {
   "codemirror_mode": {
    "name": "ipython",
    "version": 3
   },
   "file_extension": ".py",
   "mimetype": "text/x-python",
   "name": "python",
   "nbconvert_exporter": "python",
   "pygments_lexer": "ipython3",
   "version": "3.7.7"
  }
 },
 "nbformat": 4,
 "nbformat_minor": 4
}
